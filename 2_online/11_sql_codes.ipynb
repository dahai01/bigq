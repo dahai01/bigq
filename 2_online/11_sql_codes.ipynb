{
 "cells": [
  {
   "cell_type": "markdown",
   "metadata": {},
   "source": [
    "# Convert to geometry"
   ]
  },
  {
   "cell_type": "code",
   "execution_count": null,
   "metadata": {
    "vscode": {
     "languageId": "sql"
    }
   },
   "outputs": [],
   "source": [
    "-- Add a new column for GEOGRAPHY type\n",
    "ALTER TABLE `project_id.dataset_name.table_name` \n",
    "ADD COLUMN geo_gg GEOGRAPHY;\n",
    "\n",
    "-- Populate the new column with geometry data\n",
    "UPDATE `project_id.dataset_name.table_name` \n",
    "SET geo_gg = ST_GEOGFROMTEXT(geometry) \n",
    "WHERE geometry IS NOT NULL;"
   ]
  },
  {
   "cell_type": "markdown",
   "metadata": {},
   "source": [
    "# Query"
   ]
  },
  {
   "cell_type": "markdown",
   "metadata": {},
   "source": [
    "## n(HH) by Veh by MPO"
   ]
  },
  {
   "cell_type": "code",
   "execution_count": null,
   "metadata": {
    "vscode": {
     "languageId": "sql"
    }
   },
   "outputs": [],
   "source": [
    "SELECT\n",
    "  polygons_table.mpo AS mpo,\n",
    "  points_table.vehicles AS vehicles,\n",
    "  COUNT(DISTINCT household_id) AS num_households\n",
    "FROM\n",
    "  `project-using-replica.tdm_calib23.mpo_geo` AS polygons_table\n",
    "JOIN\n",
    "  `replica-customer.northeast.northeast_2023_Q4_population` AS points_table\n",
    "ON\n",
    "  ST_CONTAINS(polygons_table.geo_gg, ST_GEOGPOINT(points_table.lng, points_table.lat))\n",
    "WHERE \n",
    "  points_table.lat IS NOT NULL\n",
    "GROUP BY\n",
    "  polygons_table.mpo, points_table.vehicles;"
   ]
  },
  {
   "cell_type": "markdown",
   "metadata": {},
   "source": [
    "## n(HH) by VA by MPO\n",
    "\n",
    "> cannot get VA?"
   ]
  },
  {
   "cell_type": "code",
   "execution_count": null,
   "metadata": {
    "vscode": {
     "languageId": "sql"
    }
   },
   "outputs": [],
   "source": []
  }
 ],
 "metadata": {
  "language_info": {
   "name": "python"
  }
 },
 "nbformat": 4,
 "nbformat_minor": 2
}
