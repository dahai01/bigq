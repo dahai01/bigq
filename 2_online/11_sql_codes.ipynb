{
 "cells": [
  {
   "cell_type": "markdown",
   "metadata": {},
   "source": [
    "# SQL codes Used on BigQuery"
   ]
  },
  {
   "cell_type": "markdown",
   "metadata": {},
   "source": [
    "## 1. vehicles\n",
    "\n",
    "n(HH) by Veh by MPO"
   ]
  },
  {
   "cell_type": "code",
   "execution_count": null,
   "metadata": {
    "vscode": {
     "languageId": "sql"
    }
   },
   "outputs": [],
   "source": [
    "SELECT\n",
    "  polygons_table.mpo AS mpo,\n",
    "  points_table.vehicles AS vehicles,\n",
    "  COUNT(DISTINCT household_id) AS num_households\n",
    "FROM\n",
    "  `project-using-replica.tdm_calib23.mpo_geo` AS polygons_table\n",
    "JOIN\n",
    "  `replica-customer.northeast.northeast_2023_Q4_population` AS points_table\n",
    "ON\n",
    "  ST_CONTAINS(polygons_table.geo_gg, ST_GEOGPOINT(points_table.lng, points_table.lat))\n",
    "WHERE \n",
    "  points_table.lat IS NOT NULL\n",
    "GROUP BY\n",
    "  polygons_table.mpo, points_table.vehicles;"
   ]
  },
  {
   "cell_type": "markdown",
   "metadata": {},
   "source": [
    "> output: '.\\data\\mpo_veh_Nhh_0813.csv'"
   ]
  },
  {
   "cell_type": "markdown",
   "metadata": {},
   "source": [
    "## 2. Check"
   ]
  },
  {
   "cell_type": "markdown",
   "metadata": {},
   "source": [
    "### 2.1 group quarters (GQ) [.]"
   ]
  },
  {
   "cell_type": "code",
   "execution_count": null,
   "metadata": {
    "vscode": {
     "languageId": "sql"
    }
   },
   "outputs": [],
   "source": []
  },
  {
   "cell_type": "markdown",
   "metadata": {},
   "source": [
    "vehicles = 'GQ'\n",
    "\n",
    "or\n",
    "\n",
    "household_size = '1_person_group_quarters'"
   ]
  },
  {
   "cell_type": "markdown",
   "metadata": {
    "vscode": {
     "languageId": "sql"
    }
   },
   "source": [
    "### 2.2 household_size vs person_id [?]"
   ]
  },
  {
   "cell_type": "code",
   "execution_count": null,
   "metadata": {
    "vscode": {
     "languageId": "sql"
    }
   },
   "outputs": [],
   "source": [
    "SELECT\n",
    "    household_id,\n",
    "    household_size,\n",
    "    count(person_id) AS person_count\n",
    "FROM\n",
    "\n",
    "    `replica-customer.northeast.northeast_2023_Q4_population`\n",
    "\n",
    "WHERE \n",
    "    -- points_table.lat IS NOT NULL \n",
    "    -- AND \n",
    "    household_size = '6_person'\n",
    "GROUP BY\n",
    "    household_id, household_size\n",
    "ORDER BY person_count ASC\n",
    "limit 100;"
   ]
  },
  {
   "cell_type": "markdown",
   "metadata": {},
   "source": [
    "> example output: household_id, household_size = '6_persons', person_count = 1"
   ]
  },
  {
   "cell_type": "markdown",
   "metadata": {},
   "source": [
    "7 plus\n",
    "\n",
    "20"
   ]
  },
  {
   "cell_type": "markdown",
   "metadata": {},
   "source": [
    "## 3. Vehicle Availability (VA)\n",
    "\n",
    "n(HH) by VA by MPO\n"
   ]
  },
  {
   "cell_type": "markdown",
   "metadata": {},
   "source": [
    "## 3.1 no GQ\n",
    "\n",
    "## 3.2 vehicle_count\n",
    "\n",
    "## 3.3 adult_count\n",
    "\n",
    "allows \n",
    "\n",
    "    1. filters on adult_count\n",
    "    2. changes on vehicle_count (e.g., 3 into 3.5)"
   ]
  },
  {
   "cell_type": "code",
   "execution_count": null,
   "metadata": {
    "vscode": {
     "languageId": "sql"
    }
   },
   "outputs": [],
   "source": [
    "CREATE TABLE `project-using-replica.tdm_calib23.adultCount_mpo_23Q4` AS \n",
    "    SELECT\n",
    "        points_table.household_id,\n",
    "        polygons_table.mpo,\n",
    "        MAX(CASE points_table.vehicles\n",
    "            WHEN 'zero' THEN 0\n",
    "            WHEN '1' THEN 1\n",
    "            WHEN '2' THEN 2\n",
    "            WHEN '3_plus' THEN 3 -- Assuming '3_plus' means at least 3 vehicles\n",
    "            ELSE 0\n",
    "            END) AS vehicle_count,\n",
    "        SUM(CASE WHEN age >= 18 THEN 1 ELSE 0 END) AS adult_count\n",
    "    FROM\n",
    "        `project-using-replica.tdm_calib23.mpo_geo` AS polygons_table\n",
    "    JOIN\n",
    "        `replica-customer.northeast.northeast_2023_Q4_population` AS points_table\n",
    "    ON\n",
    "        ST_CONTAINS(polygons_table.geo_gg, ST_GEOGPOINT(points_table.lng, points_table.lat))\n",
    "    WHERE \n",
    "        points_table.vehicles <> 'GQ' AND points_table.lat IS NOT NULL \n",
    "    GROUP BY\n",
    "        polygons_table.mpo, points_table.household_id;\n",
    "    -- ORDER BY adult_count DESC"
   ]
  },
  {
   "cell_type": "markdown",
   "metadata": {},
   "source": [
    "## 3.4 change vehicle_count (optional)"
   ]
  },
  {
   "cell_type": "code",
   "execution_count": null,
   "metadata": {
    "vscode": {
     "languageId": "sql"
    }
   },
   "outputs": [],
   "source": [
    "-- Step 1: Add a new column for float values\n",
    "ALTER TABLE `project-using-replica.tdm_calib23.adultCount_mpo_23Q4`\n",
    "ADD COLUMN vehicle_count_float FLOAT64;\n",
    "\n",
    "-- Step 2: Populate the new column with float values from vehicle_count\n",
    "UPDATE `project-using-replica.tdm_calib23.adultCount_mpo_23Q4`\n",
    "SET vehicle_count_float = CAST(vehicle_count AS FLOAT64)\n",
    "WHERE vehicle_count IS NOT NULL; -- mandatory `where`\n",
    "\n",
    "-- Step 3: Update the specific value from 3 to 3.5 in the new float column\n",
    "UPDATE `project-using-replica.tdm_calib23.adultCount_mpo_23Q4`\n",
    "SET vehicle_count_float = 3.5\n",
    "WHERE vehicle_count = 3;"
   ]
  },
  {
   "cell_type": "code",
   "execution_count": null,
   "metadata": {
    "vscode": {
     "languageId": "sql"
    }
   },
   "outputs": [],
   "source": [
    "-- Step 3 only for future updates  "
   ]
  },
  {
   "cell_type": "markdown",
   "metadata": {
    "vscode": {
     "languageId": "sql"
    }
   },
   "source": [
    "## 3.5 VA"
   ]
  },
  {
   "cell_type": "code",
   "execution_count": null,
   "metadata": {
    "vscode": {
     "languageId": "sql"
    }
   },
   "outputs": [],
   "source": [
    "-- Step 1: Add a new column for vehicle availability\n",
    "ALTER TABLE `project-using-replica.tdm_calib23.adultCount_mpo_23Q4`\n",
    "ADD COLUMN va_ac3 STRING; -- VA for HH with adult_count <= 3\n",
    "\n",
    "-- Step 2: Populate the new column based on vehicle_count and adult_count\n",
    "UPDATE `project-using-replica.tdm_calib23.adultCount_mpo_23Q4`\n",
    "SET va_ac3 = CASE\n",
    "  WHEN vehicle_count = 0 THEN 'zv'\n",
    "  WHEN vehicle_count > 0 AND vehicle_count < adult_count THEN 'iv'\n",
    "  WHEN vehicle_count >= adult_count THEN 'sv'\n",
    "  ELSE NULL  -- This covers any cases that don't match the above conditions\n",
    "END\n",
    "WHERE adult_count <= 3;\n"
   ]
  },
  {
   "cell_type": "markdown",
   "metadata": {},
   "source": [
    "> Q: WHEN adult_count > 3 AND vehicle_count = 0, do we get 'zv'?\n",
    "\n",
    "    No."
   ]
  },
  {
   "cell_type": "markdown",
   "metadata": {},
   "source": [
    "## 3.6 VA groups"
   ]
  },
  {
   "cell_type": "code",
   "execution_count": null,
   "metadata": {
    "vscode": {
     "languageId": "sql"
    }
   },
   "outputs": [],
   "source": [
    "SELECT\n",
    "  mpo,\n",
    "  va_ac3,\n",
    "  COUNT(household_id) AS num_households\n",
    "FROM\n",
    "  `project-using-replica.tdm_calib23.adultCount_mpo_23Q4`\n",
    "GROUP BY\n",
    "  mpo, va_ac3\n",
    "ORDER BY\n",
    "  mpo, va_ac3;\n"
   ]
  },
  {
   "cell_type": "markdown",
   "metadata": {},
   "source": [
    "> output: 'data\\va_ac3_mpo_rep23_v0816.csv'"
   ]
  },
  {
   "cell_type": "markdown",
   "metadata": {},
   "source": [
    "note"
   ]
  },
  {
   "cell_type": "code",
   "execution_count": null,
   "metadata": {
    "vscode": {
     "languageId": "sql"
    }
   },
   "outputs": [],
   "source": [
    "-- check NULL\n",
    "SELECT\n",
    "  household_id, adult_count, vehicle_count\n",
    "FROM\n",
    "  `project-using-replica.tdm_calib23.adultCount_mpo_23Q4`\n",
    "WHERE \n",
    "  va_ac3 IS NULL AND adult_count < 4\n",
    "LIMIT 100;\n",
    "\n",
    "-- There is no data to display.\n"
   ]
  },
  {
   "cell_type": "markdown",
   "metadata": {},
   "source": [
    "> `va_ac3 IS NULL` means `adult_count >= 4`"
   ]
  },
  {
   "cell_type": "code",
   "execution_count": null,
   "metadata": {
    "vscode": {
     "languageId": "sql"
    }
   },
   "outputs": [],
   "source": []
  }
 ],
 "metadata": {
  "language_info": {
   "name": "python"
  }
 },
 "nbformat": 4,
 "nbformat_minor": 2
}
