{
 "cells": [
  {
   "cell_type": "markdown",
   "metadata": {},
   "source": [
    "# Quick Check"
   ]
  },
  {
   "cell_type": "code",
   "execution_count": 21,
   "metadata": {},
   "outputs": [],
   "source": [
    "import pandas as pd\n",
    "import matplotlib.pyplot as plt"
   ]
  },
  {
   "cell_type": "code",
   "execution_count": 22,
   "metadata": {},
   "outputs": [],
   "source": [
    "vehicle_order = ['zero', '1', '2', '3_plus', 'GQ']"
   ]
  },
  {
   "cell_type": "markdown",
   "metadata": {},
   "source": [
    "## HH by Veh by MPO"
   ]
  },
  {
   "cell_type": "markdown",
   "metadata": {},
   "source": [
    "input"
   ]
  },
  {
   "cell_type": "code",
   "execution_count": 23,
   "metadata": {},
   "outputs": [],
   "source": [
    "csv_data = r'.\\data\\mpo_veh_Nhh_0813.csv'"
   ]
  },
  {
   "cell_type": "markdown",
   "metadata": {},
   "source": [
    "### counts"
   ]
  },
  {
   "cell_type": "code",
   "execution_count": 24,
   "metadata": {},
   "outputs": [],
   "source": [
    "df = pd.read_csv(csv_data)\n",
    "vehicle_order = ['zero', '1', '2', '3_plus', 'GQ']\n",
    "df['vehicles'] = pd.Categorical(df['vehicles'], categories=vehicle_order, ordered=True)\n",
    "\n",
    "pivot_df = df.pivot_table(index='mpo', columns='vehicles', values='num_households', fill_value=0)"
   ]
  },
  {
   "cell_type": "code",
   "execution_count": 25,
   "metadata": {},
   "outputs": [
    {
     "data": {
      "text/html": [
       "<div>\n",
       "<style scoped>\n",
       "    .dataframe tbody tr th:only-of-type {\n",
       "        vertical-align: middle;\n",
       "    }\n",
       "\n",
       "    .dataframe tbody tr th {\n",
       "        vertical-align: top;\n",
       "    }\n",
       "\n",
       "    .dataframe thead th {\n",
       "        text-align: right;\n",
       "    }\n",
       "</style>\n",
       "<table border=\"1\" class=\"dataframe\">\n",
       "  <thead>\n",
       "    <tr style=\"text-align: right;\">\n",
       "      <th>vehicles</th>\n",
       "      <th>zero</th>\n",
       "      <th>1</th>\n",
       "      <th>2</th>\n",
       "      <th>3_plus</th>\n",
       "      <th>GQ</th>\n",
       "    </tr>\n",
       "    <tr>\n",
       "      <th>mpo</th>\n",
       "      <th></th>\n",
       "      <th></th>\n",
       "      <th></th>\n",
       "      <th></th>\n",
       "      <th></th>\n",
       "    </tr>\n",
       "  </thead>\n",
       "  <tbody>\n",
       "    <tr>\n",
       "      <th>BRMPO</th>\n",
       "      <td>204328</td>\n",
       "      <td>494862</td>\n",
       "      <td>435624</td>\n",
       "      <td>180681</td>\n",
       "      <td>117663</td>\n",
       "    </tr>\n",
       "    <tr>\n",
       "      <th>BRPC</th>\n",
       "      <td>5051</td>\n",
       "      <td>21589</td>\n",
       "      <td>21134</td>\n",
       "      <td>8694</td>\n",
       "      <td>6098</td>\n",
       "    </tr>\n",
       "    <tr>\n",
       "      <th>CCC</th>\n",
       "      <td>4858</td>\n",
       "      <td>34073</td>\n",
       "      <td>40709</td>\n",
       "      <td>21545</td>\n",
       "      <td>2759</td>\n",
       "    </tr>\n",
       "    <tr>\n",
       "      <th>CMRPC</th>\n",
       "      <td>21306</td>\n",
       "      <td>76243</td>\n",
       "      <td>85891</td>\n",
       "      <td>47200</td>\n",
       "      <td>20348</td>\n",
       "    </tr>\n",
       "    <tr>\n",
       "      <th>FRCOG</th>\n",
       "      <td>2238</td>\n",
       "      <td>10969</td>\n",
       "      <td>12392</td>\n",
       "      <td>5559</td>\n",
       "      <td>1525</td>\n",
       "    </tr>\n",
       "    <tr>\n",
       "      <th>MRPC</th>\n",
       "      <td>6793</td>\n",
       "      <td>32593</td>\n",
       "      <td>37754</td>\n",
       "      <td>21756</td>\n",
       "      <td>7787</td>\n",
       "    </tr>\n",
       "    <tr>\n",
       "      <th>MVC</th>\n",
       "      <td>334</td>\n",
       "      <td>2507</td>\n",
       "      <td>2473</td>\n",
       "      <td>2291</td>\n",
       "      <td>241</td>\n",
       "    </tr>\n",
       "    <tr>\n",
       "      <th>MVPC</th>\n",
       "      <td>11607</td>\n",
       "      <td>46396</td>\n",
       "      <td>51219</td>\n",
       "      <td>27980</td>\n",
       "      <td>6153</td>\n",
       "    </tr>\n",
       "    <tr>\n",
       "      <th>NMCOG</th>\n",
       "      <td>8487</td>\n",
       "      <td>35587</td>\n",
       "      <td>44644</td>\n",
       "      <td>24984</td>\n",
       "      <td>6886</td>\n",
       "    </tr>\n",
       "    <tr>\n",
       "      <th>NPEDC</th>\n",
       "      <td>201</td>\n",
       "      <td>1368</td>\n",
       "      <td>2073</td>\n",
       "      <td>1231</td>\n",
       "      <td>264</td>\n",
       "    </tr>\n",
       "    <tr>\n",
       "      <th>OCPC</th>\n",
       "      <td>10231</td>\n",
       "      <td>41098</td>\n",
       "      <td>58336</td>\n",
       "      <td>33294</td>\n",
       "      <td>10858</td>\n",
       "    </tr>\n",
       "    <tr>\n",
       "      <th>PVPC</th>\n",
       "      <td>26450</td>\n",
       "      <td>90659</td>\n",
       "      <td>86005</td>\n",
       "      <td>41754</td>\n",
       "      <td>34240</td>\n",
       "    </tr>\n",
       "    <tr>\n",
       "      <th>SRPEDD</th>\n",
       "      <td>23594</td>\n",
       "      <td>88034</td>\n",
       "      <td>94086</td>\n",
       "      <td>54486</td>\n",
       "      <td>13318</td>\n",
       "    </tr>\n",
       "  </tbody>\n",
       "</table>\n",
       "</div>"
      ],
      "text/plain": [
       "vehicles    zero       1       2  3_plus      GQ\n",
       "mpo                                             \n",
       "BRMPO     204328  494862  435624  180681  117663\n",
       "BRPC        5051   21589   21134    8694    6098\n",
       "CCC         4858   34073   40709   21545    2759\n",
       "CMRPC      21306   76243   85891   47200   20348\n",
       "FRCOG       2238   10969   12392    5559    1525\n",
       "MRPC        6793   32593   37754   21756    7787\n",
       "MVC          334    2507    2473    2291     241\n",
       "MVPC       11607   46396   51219   27980    6153\n",
       "NMCOG       8487   35587   44644   24984    6886\n",
       "NPEDC        201    1368    2073    1231     264\n",
       "OCPC       10231   41098   58336   33294   10858\n",
       "PVPC       26450   90659   86005   41754   34240\n",
       "SRPEDD     23594   88034   94086   54486   13318"
      ]
     },
     "execution_count": 25,
     "metadata": {},
     "output_type": "execute_result"
    }
   ],
   "source": [
    "pivot_df"
   ]
  },
  {
   "cell_type": "code",
   "execution_count": 26,
   "metadata": {},
   "outputs": [
    {
     "data": {
      "image/png": "[encoded data removed]",
      "text/plain": [
       "<Figure size 1152x576 with 1 Axes>"
      ]
     },
     "metadata": {
      "needs_background": "light"
     },
     "output_type": "display_data"
    }
   ],
   "source": [
    "\n",
    "pivot_df.plot(kind='bar', figsize=(16, 8))\n",
    "plt.title('Number of Households by Vehicle Count and MPO')\n",
    "plt.xlabel('MPO')\n",
    "plt.ylabel('Number of Households')\n",
    "plt.xticks(rotation=45)  # Rotates the MPO labels to avoid overlap\n",
    "plt.legend(title='Vehicles')\n",
    "# plt.tight_layout() \n",
    "\n",
    "plt.show()\n"
   ]
  },
  {
   "cell_type": "markdown",
   "metadata": {},
   "source": [
    "### percentage (excl. GQ)"
   ]
  },
  {
   "cell_type": "code",
   "execution_count": 27,
   "metadata": {},
   "outputs": [
    {
     "data": {
      "text/html": [
       "<div>\n",
       "<style scoped>\n",
       "    .dataframe tbody tr th:only-of-type {\n",
       "        vertical-align: middle;\n",
       "    }\n",
       "\n",
       "    .dataframe tbody tr th {\n",
       "        vertical-align: top;\n",
       "    }\n",
       "\n",
       "    .dataframe thead th {\n",
       "        text-align: right;\n",
       "    }\n",
       "</style>\n",
       "<table border=\"1\" class=\"dataframe\">\n",
       "  <thead>\n",
       "    <tr style=\"text-align: right;\">\n",
       "      <th>vehicles</th>\n",
       "      <th>zero</th>\n",
       "      <th>1</th>\n",
       "      <th>2</th>\n",
       "      <th>3_plus</th>\n",
       "    </tr>\n",
       "    <tr>\n",
       "      <th>mpo</th>\n",
       "      <th></th>\n",
       "      <th></th>\n",
       "      <th></th>\n",
       "      <th></th>\n",
       "    </tr>\n",
       "  </thead>\n",
       "  <tbody>\n",
       "    <tr>\n",
       "      <th>BRMPO</th>\n",
       "      <td>15.532404</td>\n",
       "      <td>37.617931</td>\n",
       "      <td>33.114835</td>\n",
       "      <td>13.734830</td>\n",
       "    </tr>\n",
       "    <tr>\n",
       "      <th>BRPC</th>\n",
       "      <td>8.944889</td>\n",
       "      <td>38.232273</td>\n",
       "      <td>37.426507</td>\n",
       "      <td>15.396331</td>\n",
       "    </tr>\n",
       "    <tr>\n",
       "      <th>CCC</th>\n",
       "      <td>4.801107</td>\n",
       "      <td>33.673964</td>\n",
       "      <td>40.232248</td>\n",
       "      <td>21.292682</td>\n",
       "    </tr>\n",
       "    <tr>\n",
       "      <th>CMRPC</th>\n",
       "      <td>9.237773</td>\n",
       "      <td>33.057145</td>\n",
       "      <td>37.240288</td>\n",
       "      <td>20.464794</td>\n",
       "    </tr>\n",
       "    <tr>\n",
       "      <th>FRCOG</th>\n",
       "      <td>7.182746</td>\n",
       "      <td>35.204442</td>\n",
       "      <td>39.771487</td>\n",
       "      <td>17.841325</td>\n",
       "    </tr>\n",
       "    <tr>\n",
       "      <th>MRPC</th>\n",
       "      <td>6.868832</td>\n",
       "      <td>32.956844</td>\n",
       "      <td>38.175457</td>\n",
       "      <td>21.998867</td>\n",
       "    </tr>\n",
       "    <tr>\n",
       "      <th>MVC</th>\n",
       "      <td>4.391847</td>\n",
       "      <td>32.965155</td>\n",
       "      <td>32.518080</td>\n",
       "      <td>30.124918</td>\n",
       "    </tr>\n",
       "    <tr>\n",
       "      <th>MVPC</th>\n",
       "      <td>8.459789</td>\n",
       "      <td>33.815834</td>\n",
       "      <td>37.331088</td>\n",
       "      <td>20.393289</td>\n",
       "    </tr>\n",
       "    <tr>\n",
       "      <th>NMCOG</th>\n",
       "      <td>7.464249</td>\n",
       "      <td>31.298482</td>\n",
       "      <td>39.264041</td>\n",
       "      <td>21.973228</td>\n",
       "    </tr>\n",
       "    <tr>\n",
       "      <th>NPEDC</th>\n",
       "      <td>4.124769</td>\n",
       "      <td>28.073056</td>\n",
       "      <td>42.540529</td>\n",
       "      <td>25.261646</td>\n",
       "    </tr>\n",
       "    <tr>\n",
       "      <th>OCPC</th>\n",
       "      <td>7.156597</td>\n",
       "      <td>28.748103</td>\n",
       "      <td>40.806105</td>\n",
       "      <td>23.289195</td>\n",
       "    </tr>\n",
       "    <tr>\n",
       "      <th>PVPC</th>\n",
       "      <td>10.801738</td>\n",
       "      <td>37.023621</td>\n",
       "      <td>35.123005</td>\n",
       "      <td>17.051636</td>\n",
       "    </tr>\n",
       "    <tr>\n",
       "      <th>SRPEDD</th>\n",
       "      <td>9.067640</td>\n",
       "      <td>33.833205</td>\n",
       "      <td>36.159108</td>\n",
       "      <td>20.940046</td>\n",
       "    </tr>\n",
       "  </tbody>\n",
       "</table>\n",
       "</div>"
      ],
      "text/plain": [
       "vehicles       zero          1          2     3_plus\n",
       "mpo                                                 \n",
       "BRMPO     15.532404  37.617931  33.114835  13.734830\n",
       "BRPC       8.944889  38.232273  37.426507  15.396331\n",
       "CCC        4.801107  33.673964  40.232248  21.292682\n",
       "CMRPC      9.237773  33.057145  37.240288  20.464794\n",
       "FRCOG      7.182746  35.204442  39.771487  17.841325\n",
       "MRPC       6.868832  32.956844  38.175457  21.998867\n",
       "MVC        4.391847  32.965155  32.518080  30.124918\n",
       "MVPC       8.459789  33.815834  37.331088  20.393289\n",
       "NMCOG      7.464249  31.298482  39.264041  21.973228\n",
       "NPEDC      4.124769  28.073056  42.540529  25.261646\n",
       "OCPC       7.156597  28.748103  40.806105  23.289195\n",
       "PVPC      10.801738  37.023621  35.123005  17.051636\n",
       "SRPEDD     9.067640  33.833205  36.159108  20.940046"
      ]
     },
     "execution_count": 27,
     "metadata": {},
     "output_type": "execute_result"
    }
   ],
   "source": [
    "\n",
    "df = pd.read_csv(csv_data)\n",
    "\n",
    "# Define a custom order for the 'vehicles' column excluding 'GQ'\n",
    "vehicle_order = ['zero', '1', '2', '3_plus']\n",
    "df['vehicles'] = pd.Categorical(df['vehicles'], categories=vehicle_order, ordered=True)\n",
    "\n",
    "# Filter out 'GQ' entries\n",
    "df = df[df['vehicles'] != 'GQ']\n",
    "\n",
    "# Pivot the table to prepare for grouped percentage calculation\n",
    "pivot_df = df.pivot_table(index='mpo', columns='vehicles', values='num_households', aggfunc='sum', fill_value=0)\n",
    "\n",
    "# Convert numbers to percentages within each MPO\n",
    "pivot_df = pivot_df.div(pivot_df.sum(axis=1), axis=0) * 100\n",
    "\n",
    "pivot_df"
   ]
  },
  {
   "cell_type": "code",
   "execution_count": 28,
   "metadata": {},
   "outputs": [
    {
     "data": {
      "image/png": "[encoded data removed]",
      "text/plain": [
       "<Figure size 1152x576 with 1 Axes>"
      ]
     },
     "metadata": {
      "needs_background": "light"
     },
     "output_type": "display_data"
    }
   ],
   "source": [
    "\n",
    "# Plotting the grouped bar chart in percentage\n",
    "pivot_df.plot(kind='bar', figsize=(16, 8)) #, colormap='viridis')\n",
    "plt.title('Percentage of Households by Vehicle Count within Each MPO')\n",
    "plt.xlabel('MPO')\n",
    "plt.ylabel('Percentage of Households')\n",
    "plt.xticks(rotation=45)\n",
    "plt.legend(title='Vehicles')\n",
    "plt.tight_layout()\n",
    "\n",
    "# Display the plot\n",
    "plt.show()\n"
   ]
  },
  {
   "cell_type": "code",
   "execution_count": null,
   "metadata": {},
   "outputs": [],
   "source": []
  }
 ],
 "metadata": {
  "kernelspec": {
   "display_name": "tdm23_env_1",
   "language": "python",
   "name": "python3"
  },
  "language_info": {
   "codemirror_mode": {
    "name": "ipython",
    "version": 3
   },
   "file_extension": ".py",
   "mimetype": "text/x-python",
   "name": "python",
   "nbconvert_exporter": "python",
   "pygments_lexer": "ipython3",
   "version": "3.8.12"
  }
 },
 "nbformat": 4,
 "nbformat_minor": 2
}
